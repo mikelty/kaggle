{
 "cells": [
  {
   "cell_type": "code",
   "execution_count": 65,
   "metadata": {
    "ExecuteTime": {
     "end_time": "2020-09-25T04:56:50.299512Z",
     "start_time": "2020-09-25T04:56:50.285789Z"
    }
   },
   "outputs": [
    {
     "data": {
      "text/plain": [
       "Index(['PassengerId', 'Pclass', 'Name', 'Sex', 'Age', 'SibSp', 'Parch',\n",
       "       'Ticket', 'Fare', 'Cabin', 'Embarked'],\n",
       "      dtype='object')"
      ]
     },
     "execution_count": 65,
     "metadata": {},
     "output_type": "execute_result"
    }
   ],
   "source": [
    "import os\n",
    "import numpy as np\n",
    "import pandas as pd\n",
    "import xgboost\n",
    "\n",
    "train=pd.read_csv('train.csv')\n",
    "test=pd.read_csv('test.csv')"
   ]
  },
  {
   "cell_type": "code",
   "execution_count": 66,
   "metadata": {
    "ExecuteTime": {
     "end_time": "2020-09-25T04:56:50.455678Z",
     "start_time": "2020-09-25T04:56:50.444340Z"
    }
   },
   "outputs": [],
   "source": [
    "train=train[['PassengerId','Survived','Pclass','Sex','Age','Embarked']]\n",
    "train['Sex']=pd.factorize(train['Sex'])[0]\n",
    "train['Embarked']=pd.factorize(train['Embarked'])[0]\n",
    "test=test[['PassengerId','Pclass','Sex','Age','Embarked']]\n",
    "test['Sex']=pd.factorize(test['Sex'])[0]\n",
    "test['Embarked']=pd.factorize(test['Embarked'])[0]"
   ]
  },
  {
   "cell_type": "code",
   "execution_count": 70,
   "metadata": {
    "ExecuteTime": {
     "end_time": "2020-09-25T04:57:12.630940Z",
     "start_time": "2020-09-25T04:57:12.520316Z"
    }
   },
   "outputs": [
    {
     "data": {
      "text/plain": [
       "0.9921436588103255"
      ]
     },
     "execution_count": 70,
     "metadata": {},
     "output_type": "execute_result"
    }
   ],
   "source": [
    "x_train=train.loc[:,train.columns!='Survived']\n",
    "y_train=np.array(train.loc[:,'Survived']).reshape(-1,1)\n",
    "xgb_classifier=xgboost.XGBClassifier()\n",
    "xgb_classifier.fit(x_train,y_train)\n",
    "xgb_classifier.score(x_train,y_train)"
   ]
  },
  {
   "cell_type": "code",
   "execution_count": 71,
   "metadata": {
    "ExecuteTime": {
     "end_time": "2020-09-25T04:57:18.291269Z",
     "start_time": "2020-09-25T04:57:12.961226Z"
    }
   },
   "outputs": [
    {
     "name": "stdout",
     "output_type": "stream",
     "text": [
      "100%|████████████████████████████████████████| 2.77k/2.77k [00:03<00:00, 903B/s]\n",
      "Successfully submitted to Titanic: Machine Learning from Disaster"
     ]
    }
   ],
   "source": [
    "predictions=xgb_classifier.predict(test)\n",
    "submission = pd.DataFrame({'PassengerId':test['PassengerId'],'Survived':predictions})\n",
    "submission.to_csv('vanilla_xgboost.csv',index=False)\n",
    "!kaggle competitions submit -c titanic -f './vanilla_xgboost.csv' -m 'vanilla xgboost'"
   ]
  },
  {
   "cell_type": "code",
   "execution_count": 72,
   "metadata": {
    "ExecuteTime": {
     "end_time": "2020-09-25T04:57:19.475143Z",
     "start_time": "2020-09-25T04:57:18.294336Z"
    }
   },
   "outputs": [
    {
     "name": "stdout",
     "output_type": "stream",
     "text": [
      "fileName             date                 description      status    publicScore  privateScore  \r\n",
      "-------------------  -------------------  ---------------  --------  -----------  ------------  \r\n",
      "vanilla_xgboost.csv  2020-09-25 04:57:17  vanilla xgboost  complete  0.76076      None          \r\n",
      "vanilla_xgboost.csv  2020-09-25 04:56:55  vanilla xgboost  complete  0.75837      None          \r\n",
      "vanilla_xgboost.csv  2020-09-25 04:54:54  vanilla xgboost  complete  0.77033      None          \r\n",
      "vanilla_xgboost.csv  2020-09-25 04:50:08  vanilla xgboost  complete  0.77511      None          \r\n",
      "vanilla_xgboost.csv  2020-09-25 04:47:43  vanilla xgboost  complete  0.77511      None          \r\n",
      "vanilla_xgboost.csv  2020-09-25 04:47:04  vanilla xgboost  error     None         None          \r\n",
      "vanilla_dt.csv       2020-09-25 04:28:05  vanilla DT       complete  0.72727      None          \r\n"
     ]
    }
   ],
   "source": [
    "!kaggle competitions submissions -c titanic"
   ]
  },
  {
   "cell_type": "code",
   "execution_count": null,
   "metadata": {},
   "outputs": [],
   "source": []
  }
 ],
 "metadata": {
  "kernelspec": {
   "display_name": "Python 3",
   "language": "python",
   "name": "python3"
  },
  "language_info": {
   "codemirror_mode": {
    "name": "ipython",
    "version": 3
   },
   "file_extension": ".py",
   "mimetype": "text/x-python",
   "name": "python",
   "nbconvert_exporter": "python",
   "pygments_lexer": "ipython3",
   "version": "3.7.4"
  }
 },
 "nbformat": 4,
 "nbformat_minor": 4
}
